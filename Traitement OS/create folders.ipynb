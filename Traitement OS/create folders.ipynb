{
 "cells": [
  {
   "attachments": {},
   "cell_type": "markdown",
   "id": "db1f857c",
   "metadata": {},
   "source": [
    "## Créer des dossiers dans l'OS à partir d'une liste de noms de fichiers"
   ]
  },
  {
   "cell_type": "code",
   "execution_count": 1,
   "id": "2bd69b10",
   "metadata": {
    "scrolled": true
   },
   "outputs": [
    {
     "name": "stdout",
     "output_type": "stream",
     "text": [
      "folder 'C:\\Users\\baccam\\Desktop\\test tupple\\ANR-17-CE01-0013' created \n",
      "folder 'C:\\Users\\baccam\\Desktop\\test tupple\\ANR-17-CE02-0012' created \n",
      "folder 'C:\\Users\\baccam\\Desktop\\test tupple\\ANR-17-CE04-0012' created \n",
      "folder 'C:\\Users\\baccam\\Desktop\\test tupple\\ANR-17-CE05-0028' created \n"
     ]
    }
   ],
   "source": [
    "import os\n",
    "  \n",
    "root_path = 'C:\\\\Users\\\\baccam\\\\Desktop\\\\test tupple'\n",
    "  \n",
    "list = [\"ANR-17-CE01-0013\" , \"ANR-17-CE02-0012\" , \"ANR-17-CE04-0012\" , \"ANR-17-CE05-0028\"]\n",
    "  \n",
    "for items in list:\n",
    "    path = os.path.join(root_path, items)\n",
    "    if not os.path.exists(path):\n",
    "        os.makedirs(path, exist_ok=True)\n",
    "        print(\"folder '{}' created \".format(path))\n",
    "    else:\n",
    "        print(\"folder {} already exists\".format(path)) "
   ]
  }
 ],
 "metadata": {
  "kernelspec": {
   "display_name": "Python 3.9.13 ('base')",
   "language": "python",
   "name": "python3"
  },
  "language_info": {
   "codemirror_mode": {
    "name": "ipython",
    "version": 3
   },
   "file_extension": ".py",
   "mimetype": "text/x-python",
   "name": "python",
   "nbconvert_exporter": "python",
   "pygments_lexer": "ipython3",
   "version": "3.9.13"
  },
  "vscode": {
   "interpreter": {
    "hash": "5912014e9792b3d6a8b5770a88edaf44f9d506dbae55fd0923a27ba2647a110b"
   }
  }
 },
 "nbformat": 4,
 "nbformat_minor": 5
}
